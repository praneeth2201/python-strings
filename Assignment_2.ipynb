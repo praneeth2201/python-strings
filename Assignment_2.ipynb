{
  "cells": [
    {
      "cell_type": "markdown",
      "metadata": {
        "id": "view-in-github",
        "colab_type": "text"
      },
      "source": [
        "<a href=\"https://colab.research.google.com/github/praneeth2201/python-strings/blob/main/Assignment_2.ipynb\" target=\"_parent\"><img src=\"https://colab.research.google.com/assets/colab-badge.svg\" alt=\"Open In Colab\"/></a>"
      ]
    },
    {
      "cell_type": "markdown",
      "metadata": {
        "id": "p8gROi7Y_EO3"
      },
      "source": [
        "## Question 1"
      ]
    },
    {
      "cell_type": "markdown",
      "metadata": {
        "id": "Bhmumfop_EO6"
      },
      "source": [
        "- `Take two integer numbers and return their product. If the product is greater than 1000, then return their sum if product is less than 1000 return product value only.`\n",
        "\n"
      ]
    },
    {
      "cell_type": "code",
      "execution_count": null,
      "metadata": {
        "id": "yRv_fP5V_EO7",
        "outputId": "58a94fd7-083f-4bf2-de96-fc7957afeb73",
        "colab": {
          "base_uri": "https://localhost:8080/"
        }
      },
      "outputs": [
        {
          "output_type": "stream",
          "name": "stdout",
          "text": [
            "750\n"
          ]
        }
      ],
      "source": [
        "# Please write The solution Here for above question 1:\n",
        "a = 400\n",
        "b = 350\n",
        "product = a * b\n",
        "if product > 1000:\n",
        "  print(a + b)\n",
        "else:\n",
        "  print(product)\n",
        "\n",
        "\n"
      ]
    },
    {
      "cell_type": "markdown",
      "metadata": {
        "id": "2lHbWFmL_EO9"
      },
      "source": [
        "## question 2"
      ]
    },
    {
      "cell_type": "markdown",
      "metadata": {
        "id": "VysdNEqG_EO-"
      },
      "source": [
        "- `Given a range of the first 10 numbers, Iterate from the start number to the end number, and In each iteration print the sum of the current number and previous number`\n",
        "\n",
        "Expected output:\n",
        "-----------------\n",
        "    Printing current and previous number sum in a range(10)\n",
        "    Current Number 0 Previous Number  0  Sum:  0\n",
        "    Current Number 1 Previous Number  0  Sum:  1\n",
        "    Current Number 2 Previous Number  1  Sum:  3\n",
        "    Current Number 3 Previous Number  2  Sum:  5\n",
        "    Current Number 4 Previous Number  3  Sum:  7\n",
        "    Current Number 5 Previous Number  4  Sum:  9\n",
        "    Current Number 6 Previous Number  5  Sum:  11\n",
        "    Current Number 7 Previous Number  6  Sum:  13\n",
        "    Current Number 8 Previous Number  7  Sum:  15\n",
        "    Current Number 9 Previous Number  8  Sum:  17"
      ]
    },
    {
      "cell_type": "code",
      "execution_count": null,
      "metadata": {
        "id": "VXlCs83i_EO-",
        "outputId": "8bbfb027-4a7f-4aec-a33f-12da1d45cfa0",
        "colab": {
          "base_uri": "https://localhost:8080/"
        }
      },
      "outputs": [
        {
          "output_type": "stream",
          "name": "stdout",
          "text": [
            "Printing current and previous number sum in a range(10)\n",
            "Current Number 0 Previous Number 0  Sum: 0\n",
            "Current Number 1 Previous Number 0  Sum: 1\n",
            "Current Number 2 Previous Number 1  Sum: 3\n",
            "Current Number 3 Previous Number 2  Sum: 5\n",
            "Current Number 4 Previous Number 3  Sum: 7\n",
            "Current Number 5 Previous Number 4  Sum: 9\n",
            "Current Number 6 Previous Number 5  Sum: 11\n",
            "Current Number 7 Previous Number 6  Sum: 13\n",
            "Current Number 8 Previous Number 7  Sum: 15\n",
            "Current Number 9 Previous Number 8  Sum: 17\n"
          ]
        }
      ],
      "source": [
        "# Please write The solution Here for above question 2:\n",
        "print(\"Printing current and previous number sum in a range(10)\")\n",
        "for i in range(0,10):\n",
        "  if i > 0:\n",
        "    previous_number = i - 1\n",
        "    print(f'Current Number {i} Previous Number {previous_number}  Sum: {i + previous_number}')\n",
        "  else:\n",
        "    previous_number = i\n",
        "    print(f'Current Number {i} Previous Number {previous_number}  Sum: {i + previous_number}')\n",
        "\n",
        "\n",
        "\n",
        "\n"
      ]
    },
    {
      "cell_type": "markdown",
      "metadata": {
        "id": "C1oLSCGN_EO_"
      },
      "source": [
        "## question 3"
      ]
    },
    {
      "cell_type": "markdown",
      "metadata": {
        "id": "YoBIV9vh_EO_"
      },
      "source": [
        "Given a string and an integer number n, remove characters from a string starting from zero up to n and return a new string\n",
        "\n",
        "- Example :\n",
        "     `(\"pynative\", 4) so output must be tive.`\n",
        "     \n",
        "     `Note: n must be less than the length of the string.`"
      ]
    },
    {
      "cell_type": "code",
      "execution_count": null,
      "metadata": {
        "id": "3hjtQlNJ_EPA",
        "outputId": "b3b78df9-68f0-42e7-ae79-bc353dd812bb",
        "colab": {
          "base_uri": "https://localhost:8080/"
        }
      },
      "outputs": [
        {
          "output_type": "stream",
          "name": "stdout",
          "text": [
            "tive\n"
          ]
        }
      ],
      "source": [
        "# Please write The solution Here for above question 3:\n",
        "def fun(a,b):\n",
        "  print(a[b:])\n",
        "\n",
        "fun(\"pynative\" , 4)\n",
        "\n",
        "\n"
      ]
    },
    {
      "cell_type": "markdown",
      "metadata": {
        "id": "s3j6Rx8X_EPA"
      },
      "source": [
        "## question 4"
      ]
    },
    {
      "cell_type": "markdown",
      "metadata": {
        "id": "Fvq6ldUD_EPB"
      },
      "source": [
        "### `Given a list of numbers, return True if first and last number of a list is same`\n",
        "\n",
        "    Expected Output:\n",
        "    -------------------------------------\n",
        "\n",
        "    Given list is\n",
        "    a =  [10, 20, 30, 40, 10]\n",
        "    b = [10 , 20 , 30 , 40, 10 ]\n",
        "    result is True\n",
        "\n",
        "    Given list is  \n",
        "    a = [10, 20, 30, 40, 50]\n",
        "    b = [11 , 21 , 31 , 41 , 51 ]\n",
        "    result is False"
      ]
    },
    {
      "cell_type": "code",
      "execution_count": null,
      "metadata": {
        "id": "573iC9hj_EPB",
        "outputId": "372a7f85-490f-415c-84c5-9d5f012e5d0c",
        "colab": {
          "base_uri": "https://localhost:8080/"
        }
      },
      "outputs": [
        {
          "output_type": "stream",
          "name": "stdout",
          "text": [
            "result is True\n"
          ]
        }
      ],
      "source": [
        "# Please write The solution Here for above question 4:\n",
        "a =  [10, 20, 30, 40, 10]\n",
        "b = [10 , 20 , 30 , 40, 10 ]\n",
        "if a[0] == a[-1] and b[0] == b[-1]:\n",
        "  print(\"result is\",True)\n",
        "else:\n",
        "  print(\"result is\",False)\n",
        "\n",
        "\n",
        "\n"
      ]
    },
    {
      "cell_type": "markdown",
      "metadata": {
        "id": "Xs7bvKu2_EPC"
      },
      "source": [
        "## question 5"
      ]
    },
    {
      "cell_type": "markdown",
      "metadata": {
        "id": "yjdiwvO-_EPC"
      },
      "source": [
        "### Given a two Python list. Iterate both lists simultaneously such that list1 should display item in original order and list2 in reverse order\n",
        "\n",
        "    list1 = [10, 20, 30, 40]\n",
        "    list2 = [100, 200, 300, 400]\n",
        "\n",
        "\n",
        "    Expected output:\n",
        "    -----------------------------\n",
        "    10 400\n",
        "    20 300\n",
        "    30 200\n",
        "    40 100"
      ]
    },
    {
      "cell_type": "code",
      "execution_count": null,
      "metadata": {
        "id": "cA1o4wtj_EPD",
        "outputId": "39b8dda6-7679-4f26-e04e-f7336420f8f8",
        "colab": {
          "base_uri": "https://localhost:8080/"
        }
      },
      "outputs": [
        {
          "output_type": "stream",
          "name": "stdout",
          "text": [
            "10 400\n",
            "20 300\n",
            "30 200\n",
            "40 100\n"
          ]
        }
      ],
      "source": [
        "# Please write The solution Here for above question 5:\n",
        "list1 = [10, 20, 30, 40]\n",
        "list2 = [100, 200, 300, 400]\n",
        "b = sorted(list2 , reverse = True)\n",
        "for i in range(min(len(list1) , len(b))):\n",
        "  print(f'{list1[i]} {b[i]}')\n",
        "\n",
        "\n",
        "\n"
      ]
    },
    {
      "cell_type": "markdown",
      "metadata": {
        "id": "KiD-8hL__EPD"
      },
      "source": [
        "## question 6"
      ]
    },
    {
      "cell_type": "markdown",
      "metadata": {
        "id": "m6SHemTp_EPD"
      },
      "source": [
        "### Remove empty strings from the list of strings\n",
        "\n",
        "\n",
        "    list1 = [\"Mike\", \"\", \"Emma\", \"Kelly\", \"\", \"Brad\"]\n",
        "\n",
        "    Expected output:\n",
        "    ----------------------\n",
        "\n",
        "    [\"Mike\", \"Emma\", \"Kelly\", \"Brad\"]\n"
      ]
    },
    {
      "cell_type": "code",
      "execution_count": null,
      "metadata": {
        "id": "yEj_kRD6_EPD",
        "outputId": "8aee109a-290d-4787-ab68-2f130a362b38",
        "colab": {
          "base_uri": "https://localhost:8080/"
        }
      },
      "outputs": [
        {
          "output_type": "stream",
          "name": "stdout",
          "text": [
            "[\"Mike\", \"Emma\", \"Kelly\", \"Brad\"]\n"
          ]
        }
      ],
      "source": [
        "# Please write The solution Here for above question 6:\n",
        "list1 = [\"Mike\", \"\", \"Emma\", \"Kelly\", \"\", \"Brad\"]\n",
        "list1 = list(filter(None,list1))\n",
        "b = str(list1).replace(\"'\",'\"')\n",
        "print(b)\n",
        "\n",
        "\n",
        "\n"
      ]
    },
    {
      "cell_type": "code",
      "execution_count": null,
      "metadata": {
        "id": "IPSSA-Qz_EPE"
      },
      "outputs": [],
      "source": []
    }
  ],
  "metadata": {
    "kernelspec": {
      "display_name": "Python 3 (ipykernel)",
      "language": "python",
      "name": "python3"
    },
    "language_info": {
      "codemirror_mode": {
        "name": "ipython",
        "version": 3
      },
      "file_extension": ".py",
      "mimetype": "text/x-python",
      "name": "python",
      "nbconvert_exporter": "python",
      "pygments_lexer": "ipython3",
      "version": "3.11.5"
    },
    "colab": {
      "provenance": [],
      "include_colab_link": true
    }
  },
  "nbformat": 4,
  "nbformat_minor": 0
}