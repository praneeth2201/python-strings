{
  "cells": [
    {
      "cell_type": "markdown",
      "id": "db689fc2",
      "metadata": {
        "id": "db689fc2"
      },
      "source": [
        "### Question 1: Write a Python program to count the number of characters in a string without using len function.\n",
        "\n",
        "- `sample input : `\n",
        "    - `var = 'python java'`\n",
        "- `sample output :`\n",
        "    - `result : 11`"
      ]
    },
    {
      "cell_type": "code",
      "execution_count": 1,
      "id": "c9ce9180",
      "metadata": {
        "id": "c9ce9180",
        "outputId": "a465d6a6-4aa4-46c4-a938-892499f881e2",
        "colab": {
          "base_uri": "https://localhost:8080/"
        }
      },
      "outputs": [
        {
          "output_type": "stream",
          "name": "stdout",
          "text": [
            "result :  11\n"
          ]
        }
      ],
      "source": [
        "# Please write The solution Here for above question 1:\n",
        "var = 'python java'\n",
        "result=0\n",
        "for i in var:\n",
        "  result+=1\n",
        "print(\"result : \",result)\n",
        "\n",
        "\n"
      ]
    },
    {
      "cell_type": "markdown",
      "id": "46f069cc",
      "metadata": {
        "id": "46f069cc"
      },
      "source": [
        "### Question 2: Write a Python program to reverse a string without using [::-1]\n",
        "\n",
        "- `sample input : `\n",
        "    - `var = 'python'`\n",
        "- `sample output :`\n",
        "    - `result : nohtyp`"
      ]
    },
    {
      "cell_type": "code",
      "execution_count": 2,
      "id": "2cde3dcc",
      "metadata": {
        "id": "2cde3dcc",
        "outputId": "679df498-41e4-49e5-b4dd-4905e08ba2f6",
        "colab": {
          "base_uri": "https://localhost:8080/"
        }
      },
      "outputs": [
        {
          "output_type": "stream",
          "name": "stdout",
          "text": [
            "result :  nohtyp\n"
          ]
        }
      ],
      "source": [
        "# Please write The solution Here for above question 2:\n",
        "var = 'python'\n",
        "result=\"\"\n",
        "for i in var:\n",
        "  result=i+result\n",
        "print(\"result : \",result)\n",
        "\n"
      ]
    },
    {
      "cell_type": "markdown",
      "id": "0f3a2ef5",
      "metadata": {
        "id": "0f3a2ef5"
      },
      "source": [
        "### Question 3: Write a Python program to check if a string is a palindrome don't use [::-1].\n",
        "\n",
        "- `sample input : `\n",
        "    - `var = 'NUN'`\n",
        "- `sample output :`\n",
        "    - `result : It is a Palindrome`\n",
        "    \n",
        "- `palindrome concept = https://www.dictionary.com/e/palindromic-word/#:~:text=A%20palindrome%20is%20a%20word,roots%20in%20the%20early%201600s.`"
      ]
    },
    {
      "cell_type": "code",
      "execution_count": 5,
      "id": "74b9f01a",
      "metadata": {
        "id": "74b9f01a",
        "outputId": "f3cc90dc-1527-4fcd-fa84-549c4bef3c62",
        "colab": {
          "base_uri": "https://localhost:8080/"
        }
      },
      "outputs": [
        {
          "output_type": "stream",
          "name": "stdout",
          "text": [
            "It is a Palindrome\n"
          ]
        }
      ],
      "source": [
        "# Please write The solution Here for above question 3:\n",
        "\n",
        "var = 'nun'.upper()\n",
        "result=\"\"\n",
        "for i in var:\n",
        "  result=i+result\n",
        "\n",
        "if var==result:\n",
        "  print(\"It is a Palindrome\")\n",
        "else:\n",
        "  print(\"It is not a Palindrome\")\n"
      ]
    },
    {
      "cell_type": "markdown",
      "id": "98e0fc60",
      "metadata": {
        "id": "98e0fc60"
      },
      "source": [
        "### Question 4: Write a Python program to find the most common character in a string.\n",
        "\n",
        "- `sample input : `\n",
        "    - `var = 'Hello world '`\n",
        "- `sample output :`\n",
        "    - `result : l, because l is repeating 3 times `"
      ]
    },
    {
      "cell_type": "code",
      "execution_count": 19,
      "id": "d9aa4ca6",
      "metadata": {
        "id": "d9aa4ca6",
        "outputId": "ff3c889e-8a03-40fe-ca7a-253cf7f3e2e5",
        "colab": {
          "base_uri": "https://localhost:8080/"
        }
      },
      "outputs": [
        {
          "output_type": "stream",
          "name": "stdout",
          "text": [
            "l,because l is repeating 3 times\n"
          ]
        }
      ],
      "source": [
        "# Please write The solution Here for above question 4:\n",
        "var=\"Hello World\"\n",
        "dict_1={}\n",
        "for i in var:\n",
        "  if i not in dict_1:\n",
        "    dict_1[i]=1\n",
        "  else:\n",
        "    dict_1[i] +=1\n",
        "max=0\n",
        "k=\"\"\n",
        "for i,j in dict_1.items():\n",
        "  if j>max:\n",
        "    max=j\n",
        "    k=i\n",
        "print(f\"{k},because {k} is repeating {max} times\")"
      ]
    },
    {
      "cell_type": "markdown",
      "id": "17eb44eb",
      "metadata": {
        "id": "17eb44eb"
      },
      "source": [
        "### Question 5: Write a Python program to check if two strings are anagrams.\n",
        "\n",
        "- `sample input : `\n",
        "    - `var1 = 'listen'`\n",
        "    - `var2 = 'silent'`\n",
        "- `sample output :`\n",
        "    - `result : both are anagram because characters in var2 is in var1`"
      ]
    },
    {
      "cell_type": "code",
      "execution_count": 27,
      "id": "29f0e87e",
      "metadata": {
        "id": "29f0e87e",
        "outputId": "4e1dc504-26aa-4353-805d-a5cbc3274afb",
        "colab": {
          "base_uri": "https://localhost:8080/"
        }
      },
      "outputs": [
        {
          "output_type": "stream",
          "name": "stdout",
          "text": [
            "result : both are anagram because characters in var2 is in var1\n"
          ]
        }
      ],
      "source": [
        "# Please write The solution Here for above question 5:\n",
        "\n",
        "var1 = 'listen'\n",
        "var2 = 'silent'\n",
        "if sorted(var1)==(sorted(var2)):\n",
        "  print(\"result : both are anagram because characters in var2 is in var1\")\n",
        "else:\n",
        "  print(\"result : both are not anagram because characters in var2 are not in var1\")\n",
        "\n"
      ]
    },
    {
      "cell_type": "markdown",
      "id": "fac17884",
      "metadata": {
        "id": "fac17884"
      },
      "source": [
        "### Question 6: Write a Python program to remove all the vowels from a string.\n",
        "\n",
        "- `sample input : `\n",
        "    - `var = 'python'`\n",
        "- `sample output :`\n",
        "    - `result : pythn , because vowels are [AEIOUaeiou]`"
      ]
    },
    {
      "cell_type": "code",
      "execution_count": 29,
      "id": "f4b33095",
      "metadata": {
        "id": "f4b33095",
        "outputId": "3dff0380-5a1c-483a-fa76-025d8bb332a9",
        "colab": {
          "base_uri": "https://localhost:8080/"
        }
      },
      "outputs": [
        {
          "output_type": "stream",
          "name": "stdout",
          "text": [
            "pythn\n"
          ]
        }
      ],
      "source": [
        "# Please write The solution Here for above question 6:\n",
        "var = 'python'\n",
        "vowels=\"AEIOUaeiou\"\n",
        "res = ''\n",
        "for i in var:\n",
        "  if i not in vowels:\n",
        "    res = res + i\n",
        "print(res)\n",
        "\n",
        "\n",
        "\n"
      ]
    },
    {
      "cell_type": "markdown",
      "id": "2170d6f4",
      "metadata": {
        "id": "2170d6f4"
      },
      "source": [
        "### Question 7: Write a Python program to find the longest word in a string.\n",
        "\n",
        "- `sample input : `\n",
        "    - `var = 'python is Easy Language'`\n",
        "- `sample output :`\n",
        "    - `result : Language`"
      ]
    },
    {
      "cell_type": "code",
      "execution_count": 38,
      "id": "f35de8b3",
      "metadata": {
        "id": "f35de8b3",
        "outputId": "afca7b65-1abd-4b43-fa29-be41cd8f89b0",
        "colab": {
          "base_uri": "https://localhost:8080/"
        }
      },
      "outputs": [
        {
          "output_type": "stream",
          "name": "stdout",
          "text": [
            "result : Launguage\n"
          ]
        }
      ],
      "source": [
        "# Please write The solution Here for above question 7:\n",
        "a = 'python is Easy Launguage'\n",
        "b = a.split()\n",
        "result =''\n",
        "max_length = 0\n",
        "for i in b:\n",
        "  if len(i) > max_length:\n",
        "     max_length = len(i)\n",
        "     result = i\n",
        "print(\"result :\",result)\n"
      ]
    },
    {
      "cell_type": "markdown",
      "id": "f349bdb7",
      "metadata": {
        "id": "f349bdb7"
      },
      "source": [
        "### Question 8: Write a Python program to capitalize the first letter of each word in a string [dont use built-in-function title].\n",
        "\n",
        "- `sample input : `\n",
        "    - `var = 'python is easy'`\n",
        "- `sample output :`\n",
        "    - `result : Python Is Easy`"
      ]
    },
    {
      "cell_type": "code",
      "execution_count": 50,
      "id": "a1b4c4e6",
      "metadata": {
        "id": "a1b4c4e6",
        "outputId": "db55a423-2632-498b-fe8a-79add449a034",
        "colab": {
          "base_uri": "https://localhost:8080/"
        }
      },
      "outputs": [
        {
          "output_type": "stream",
          "name": "stdout",
          "text": [
            "Python Is Easy \n"
          ]
        }
      ],
      "source": [
        "# Please write The solution Here for above question 8:\n",
        "var = 'python is Easy'\n",
        "words=var.split(\" \")\n",
        "result=\"\"\n",
        "for i in words:\n",
        "  result=result+i[0].upper()+i[1:]+\" \"\n",
        "print(result)\n"
      ]
    },
    {
      "cell_type": "markdown",
      "id": "d2770696",
      "metadata": {
        "id": "d2770696"
      },
      "source": [
        "### Question 9: Write a Python program to find the frequency of each character in a string.\n",
        "\n",
        "- `sample input : `\n",
        "    - `var = 'sharuk khan'`\n",
        "- `sample output :`\n",
        "    - `result : {'s': 1, 'h': 2, 'a': 2, 'r': 1, 'u': 1, 'k': 2, ' ': 1, 'n': 1}`"
      ]
    },
    {
      "cell_type": "code",
      "execution_count": 17,
      "id": "7fdc2e9c",
      "metadata": {
        "id": "7fdc2e9c",
        "outputId": "9b7062ed-795b-49da-d998-69a3bd1688c8",
        "colab": {
          "base_uri": "https://localhost:8080/"
        }
      },
      "outputs": [
        {
          "output_type": "stream",
          "name": "stdout",
          "text": [
            "{'s': 1, 'h': 2, 'a': 2, 'r': 1, 'u': 1, 'k': 2, ' ': 1, 'n': 1}\n"
          ]
        }
      ],
      "source": [
        "# Please write The solution Here for above question 9:\n",
        "\n",
        "# Please write The solution Here for above question 4:\n",
        "var=\"sharuk khan\"\n",
        "\n",
        "\n",
        "result={}\n",
        "for i in var:\n",
        "  if i not in result:\n",
        "    result[i]=1\n",
        "  else:\n",
        "    result[i] +=1\n",
        "\n",
        "print(result)\n"
      ]
    },
    {
      "cell_type": "markdown",
      "id": "5c9a3f09",
      "metadata": {
        "id": "5c9a3f09"
      },
      "source": [
        "### Question 10: write a python programme to find the sum of all the even characters based on Ascii values\n",
        "\n",
        "- `sample input : `\n",
        "    - `var = 'sharuk khan'`\n",
        "- `sample output :`\n",
        "    - `result : 464`\n"
      ]
    },
    {
      "cell_type": "code",
      "execution_count": 28,
      "id": "57c0c30e",
      "metadata": {
        "id": "57c0c30e",
        "outputId": "ebb357a7-37c2-4663-db05-58b017d94a5d",
        "colab": {
          "base_uri": "https://localhost:8080/"
        }
      },
      "outputs": [
        {
          "output_type": "stream",
          "name": "stdout",
          "text": [
            "464\n"
          ]
        }
      ],
      "source": [
        "# Please write The solution Here for above question 10:\n",
        "var = 'sharuk khan'\n",
        "result=0\n",
        "for i in var:\n",
        "  if ord(i)%2==0:\n",
        "    result+=ord(i)\n",
        "print(result)\n",
        "\n",
        "# saikamal9797@gmail.com"
      ]
    },
    {
      "cell_type": "code",
      "execution_count": null,
      "id": "0cb2936c",
      "metadata": {
        "id": "0cb2936c"
      },
      "outputs": [],
      "source": []
    }
  ],
  "metadata": {
    "kernelspec": {
      "display_name": "Python 3 (ipykernel)",
      "language": "python",
      "name": "python3"
    },
    "language_info": {
      "codemirror_mode": {
        "name": "ipython",
        "version": 3
      },
      "file_extension": ".py",
      "mimetype": "text/x-python",
      "name": "python",
      "nbconvert_exporter": "python",
      "pygments_lexer": "ipython3",
      "version": "3.11.5"
    },
    "colab": {
      "provenance": []
    }
  },
  "nbformat": 4,
  "nbformat_minor": 5
}